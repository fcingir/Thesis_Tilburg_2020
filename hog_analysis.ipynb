{
 "cells": [
  {
   "cell_type": "code",
   "execution_count": 5,
   "metadata": {},
   "outputs": [],
   "source": [
    "import os\n",
    "import numpy as np\n",
    "import struct\n",
    "import pandas as pd\n",
    "\n",
    "\n",
    "\n",
    "def read_hog(filename, batch_size=5000):\n",
    "    \"\"\"\n",
    "    Read HoG features file created by OpenFace.\n",
    "    For each frame, OpenFace extracts 12 * 12 * 31 HoG features, i.e., num_features = 4464. These features are stored in row-major order.\n",
    "    :param filename: path to .hog file created by OpenFacefi\n",
    "    :param batch_size: how many rows to read at a time\n",
    "    :return: is_valid, hog_features\n",
    "        is_valid: ndarray of shape [num_frames]\n",
    "        hog_features: ndarray of shape [num_frames, num_features]\n",
    "    \"\"\"\n",
    "    all_feature_vectors = []\n",
    "    with open(filename, \"rb\") as f:\n",
    "        num_cols, = struct.unpack(\"i\", f.read(4))\n",
    "        num_rows, = struct.unpack(\"i\", f.read(4))\n",
    "        num_channels, = struct.unpack(\"i\", f.read(4))\n",
    "\n",
    "        # The first four bytes encode a boolean value whether the frame is valid\n",
    "        num_features = 1 + num_rows * num_cols * num_channels\n",
    "        feature_vector = struct.unpack(\"{}f\".format(num_features), f.read(num_features * 4))\n",
    "        feature_vector = np.array(feature_vector).reshape((1, num_features))\n",
    "        all_feature_vectors.append(feature_vector)\n",
    "\n",
    "        # Every frame contains a header of four float values: num_cols, num_rows, num_channels, is_valid\n",
    "        num_floats_per_feature_vector = 4 + num_rows * num_cols * num_channels\n",
    "        # Read in batches of given batch_size\n",
    "        num_floats_to_read = num_floats_per_feature_vector * batch_size\n",
    "        # Multiply by 4 because of float32\n",
    "        num_bytes_to_read = num_floats_to_read * 4\n",
    "\n",
    "        while True:\n",
    "            bytes = f.read(num_bytes_to_read)\n",
    "            # For comparison how many bytes were actually read\n",
    "            num_bytes_read = len(bytes)\n",
    "            assert num_bytes_read % 4 == 0, \"Number of bytes read does not match with float size\"\n",
    "            num_floats_read = num_bytes_read // 4\n",
    "            assert num_floats_read % num_floats_per_feature_vector == 0, \"Number of bytes read does not match with feature vector size\"\n",
    "            num_feature_vectors_read = num_floats_read // num_floats_per_feature_vector\n",
    "\n",
    "            feature_vectors = struct.unpack(\"{}f\".format(num_floats_read), bytes)\n",
    "            # Convert to array\n",
    "            feature_vectors = np.array(feature_vectors).reshape((num_feature_vectors_read, num_floats_per_feature_vector))\n",
    "            # Discard the first three values in each row (num_cols, num_rows, num_channels)\n",
    "            feature_vectors = feature_vectors[:, 3:]\n",
    "            # Append to list of all feature vectors that have been read so far\n",
    "            all_feature_vectors.append(feature_vectors)\n",
    "\n",
    "            if num_bytes_read < num_bytes_to_read:\n",
    "                break\n",
    "\n",
    "        # Concatenate batches\n",
    "        all_feature_vectors = np.concatenate(all_feature_vectors, axis=0)\n",
    "\n",
    "        # Split into is-valid and feature vectors\n",
    "        is_valid = all_feature_vectors[:, 0]\n",
    "        feature_vectors = all_feature_vectors[:, 1:]\n",
    "\n",
    "        return is_valid, feature_vectors"
   ]
  },
  {
   "cell_type": "code",
   "execution_count": 6,
   "metadata": {},
   "outputs": [
    {
     "name": "stdout",
     "output_type": "stream",
     "text": [
      "D:\\Thesis_2020\\OpenFace_2.2.0_win_x64\\processed - train - 1\n",
      "D:\\Thesis_2020\\OpenFace_2.2.0_win_x64\\processed - train - 2\n",
      "D:\\Thesis_2020\\OpenFace_2.2.0_win_x64\\processed - train - 3\n",
      "D:\\Thesis_2020\\OpenFace_2.2.0_win_x64\\processed - train - 4\n",
      "D:\\Thesis_2020\\OpenFace_2.2.0_win_x64\\processed - train - 5\n",
      "D:\\Thesis_2020\\OpenFace_2.2.0_win_x64\\processed - train - 6\n",
      "D:\\Thesis_2020\\OpenFace_2.2.0_win_x64\\processed - val - 1\n",
      "D:\\Thesis_2020\\OpenFace_2.2.0_win_x64\\processed - val - 2\n"
     ]
    }
   ],
   "source": [
    "def retrieve_file_locations_csv(path_base=str, train=bool):\n",
    "    # create 2 lists: (1) file locations (2) video id's\n",
    "    \n",
    "    # multi path, iterate over folders\n",
    "    if train==True:\n",
    "        folder_numbers = range(1,7)\n",
    "    if train==False:\n",
    "        folder_numbers = range(1,3)\n",
    "    file_locations = []\n",
    "    video_id = []\n",
    "    \n",
    "    for i in folder_numbers:\n",
    "        path = path_base + str(i)\n",
    "        print(path)\n",
    "        for file in os.listdir(path):\n",
    "            if file.endswith(\".csv\"):\n",
    "                file_locations.append(os.path.join(path, file))\n",
    "                video_id.append(file)\n",
    "                \n",
    "    return file_locations, video_id\n",
    "\n",
    "\n",
    "file_locations_train_csv, video_id_train_csv = retrieve_file_locations_csv(\"D:\\Thesis_2020\\OpenFace_2.2.0_win_x64\\processed - train - \", train=True)\n",
    "file_locations_val_csv, video_id_val_csv = retrieve_file_locations_csv(\"D:\\Thesis_2020\\OpenFace_2.2.0_win_x64\\processed - val - \", train=False)\n"
   ]
  },
  {
   "cell_type": "code",
   "execution_count": 7,
   "metadata": {},
   "outputs": [
    {
     "name": "stdout",
     "output_type": "stream",
     "text": [
      "D:\\Thesis_2020\\OpenFace_2.2.0_win_x64\\processed - train - 1\n",
      "D:\\Thesis_2020\\OpenFace_2.2.0_win_x64\\processed - train - 2\n",
      "D:\\Thesis_2020\\OpenFace_2.2.0_win_x64\\processed - train - 3\n",
      "D:\\Thesis_2020\\OpenFace_2.2.0_win_x64\\processed - train - 4\n",
      "D:\\Thesis_2020\\OpenFace_2.2.0_win_x64\\processed - train - 5\n",
      "D:\\Thesis_2020\\OpenFace_2.2.0_win_x64\\processed - train - 6\n",
      "D:\\Thesis_2020\\OpenFace_2.2.0_win_x64\\processed - val - 1\n",
      "D:\\Thesis_2020\\OpenFace_2.2.0_win_x64\\processed - val - 2\n"
     ]
    }
   ],
   "source": [
    "def retrieve_file_locations_hog(path_base=str, train=bool):\n",
    "    # create 2 lists: (1) file locations (2) video id's\n",
    "    \n",
    "    # multi path, iterate over folders\n",
    "    if train==True:\n",
    "        folder_numbers = range(1,7)\n",
    "    if train==False:\n",
    "        folder_numbers = range(1,3)\n",
    "    file_locations = []\n",
    "    video_id = []\n",
    "    \n",
    "    for i in folder_numbers:\n",
    "        path = path_base + str(i)\n",
    "        print(path)\n",
    "        for file in os.listdir(path):\n",
    "            if file.endswith(\".hog\"):\n",
    "                file_locations.append(os.path.join(path, file))\n",
    "                video_id.append(file)\n",
    "                \n",
    "    return file_locations, video_id\n",
    "\n",
    "\n",
    "file_locations_train_hog, video_id_train_hog = retrieve_file_locations_hog(\"D:\\Thesis_2020\\OpenFace_2.2.0_win_x64\\processed - train - \", train=True)\n",
    "file_locations_val_hog, video_id_val_hog = retrieve_file_locations_hog(\"D:\\Thesis_2020\\OpenFace_2.2.0_win_x64\\processed - val - \", train=False)\n"
   ]
  },
  {
   "cell_type": "code",
   "execution_count": 8,
   "metadata": {},
   "outputs": [
    {
     "data": {
      "text/plain": [
       "(438, 4464)"
      ]
     },
     "execution_count": 8,
     "metadata": {},
     "output_type": "execute_result"
    }
   ],
   "source": [
    "#path = 'D:\\Thesis_2020\\OpenFace_2.2.0_win_x64\\processed - val - 1\\_0bg1TLPP-I.003.hog'\n",
    "path = file_locations_train_hog[0]\n",
    "valid, feature_vectors = read_hog(path, batch_size=5000)\n",
    "\n",
    "# delete frames where no face is detected\n",
    "feature_vectors = np.delete(feature_vectors, np.where(valid == -1), axis=0)\n",
    "#train = np.mean(feature_vectors, axis=0)\n",
    "\n",
    "#velocity\n",
    "#feature_vectors = np.diff(feature_vectors)\n",
    "\n",
    "feature_vectors.shape"
   ]
  },
  {
   "cell_type": "code",
   "execution_count": 16,
   "metadata": {},
   "outputs": [
    {
     "name": "stdout",
     "output_type": "stream",
     "text": [
      "number of PCA components:  1\n",
      "0.9752411137311406\n",
      "number of PCA components:  10\n",
      "0.9752399889322009\n",
      "number of PCA components:  20\n",
      "0.9752592484148974\n",
      "number of PCA components:  30\n",
      "0.9752411898616923\n",
      "number of PCA components:  50\n",
      "0.9752541166856988\n",
      "number of PCA components:  100\n",
      "0.9752581793930998\n",
      "number of PCA components:  200\n",
      "0.9752323169214655\n",
      "number of PCA components:  300\n",
      "0.9752439932552105\n",
      "number of PCA components:  500\n",
      "0.975239812213641\n",
      "number of PCA components:  1000\n",
      "0.9752414580557491\n",
      "number of PCA components:  2000\n",
      "0.9752454272640751\n"
     ]
    }
   ],
   "source": [
    "from sklearn.decomposition import PCA\n",
    "n_components = [1, 10, 20, 30, 50, 100, 200, 300, 500, 1000, 2000]\n",
    "for i in n_components:\n",
    "    print(\"number of PCA components: \", i)\n",
    "    pca = PCA(n_components=200)\n",
    "    pca.fit(feature_vectors)\n",
    "    print(pca.explained_variance_ratio_.sum())"
   ]
  },
  {
   "cell_type": "code",
   "execution_count": 9,
   "metadata": {},
   "outputs": [
    {
     "name": "stdout",
     "output_type": "stream",
     "text": [
      "0\n",
      "100\n"
     ]
    },
    {
     "ename": "KeyboardInterrupt",
     "evalue": "",
     "output_type": "error",
     "traceback": [
      "\u001b[1;31m---------------------------------------------------------------------------\u001b[0m",
      "\u001b[1;31mKeyboardInterrupt\u001b[0m                         Traceback (most recent call last)",
      "\u001b[1;32m<timed exec>\u001b[0m in \u001b[0;36m<module>\u001b[1;34m\u001b[0m\n",
      "\u001b[1;32m<timed exec>\u001b[0m in \u001b[0;36mframes_per_vid\u001b[1;34m(file_locations)\u001b[0m\n",
      "\u001b[1;32mC:\\ProgramData\\Anaconda3\\lib\\site-packages\\pandas\\io\\parsers.py\u001b[0m in \u001b[0;36mparser_f\u001b[1;34m(filepath_or_buffer, sep, delimiter, header, names, index_col, usecols, squeeze, prefix, mangle_dupe_cols, dtype, engine, converters, true_values, false_values, skipinitialspace, skiprows, skipfooter, nrows, na_values, keep_default_na, na_filter, verbose, skip_blank_lines, parse_dates, infer_datetime_format, keep_date_col, date_parser, dayfirst, cache_dates, iterator, chunksize, compression, thousands, decimal, lineterminator, quotechar, quoting, doublequote, escapechar, comment, encoding, dialect, error_bad_lines, warn_bad_lines, delim_whitespace, low_memory, memory_map, float_precision)\u001b[0m\n\u001b[0;32m    683\u001b[0m         )\n\u001b[0;32m    684\u001b[0m \u001b[1;33m\u001b[0m\u001b[0m\n\u001b[1;32m--> 685\u001b[1;33m         \u001b[1;32mreturn\u001b[0m \u001b[0m_read\u001b[0m\u001b[1;33m(\u001b[0m\u001b[0mfilepath_or_buffer\u001b[0m\u001b[1;33m,\u001b[0m \u001b[0mkwds\u001b[0m\u001b[1;33m)\u001b[0m\u001b[1;33m\u001b[0m\u001b[1;33m\u001b[0m\u001b[0m\n\u001b[0m\u001b[0;32m    686\u001b[0m \u001b[1;33m\u001b[0m\u001b[0m\n\u001b[0;32m    687\u001b[0m     \u001b[0mparser_f\u001b[0m\u001b[1;33m.\u001b[0m\u001b[0m__name__\u001b[0m \u001b[1;33m=\u001b[0m \u001b[0mname\u001b[0m\u001b[1;33m\u001b[0m\u001b[1;33m\u001b[0m\u001b[0m\n",
      "\u001b[1;32mC:\\ProgramData\\Anaconda3\\lib\\site-packages\\pandas\\io\\parsers.py\u001b[0m in \u001b[0;36m_read\u001b[1;34m(filepath_or_buffer, kwds)\u001b[0m\n\u001b[0;32m    461\u001b[0m \u001b[1;33m\u001b[0m\u001b[0m\n\u001b[0;32m    462\u001b[0m     \u001b[1;32mtry\u001b[0m\u001b[1;33m:\u001b[0m\u001b[1;33m\u001b[0m\u001b[1;33m\u001b[0m\u001b[0m\n\u001b[1;32m--> 463\u001b[1;33m         \u001b[0mdata\u001b[0m \u001b[1;33m=\u001b[0m \u001b[0mparser\u001b[0m\u001b[1;33m.\u001b[0m\u001b[0mread\u001b[0m\u001b[1;33m(\u001b[0m\u001b[0mnrows\u001b[0m\u001b[1;33m)\u001b[0m\u001b[1;33m\u001b[0m\u001b[1;33m\u001b[0m\u001b[0m\n\u001b[0m\u001b[0;32m    464\u001b[0m     \u001b[1;32mfinally\u001b[0m\u001b[1;33m:\u001b[0m\u001b[1;33m\u001b[0m\u001b[1;33m\u001b[0m\u001b[0m\n\u001b[0;32m    465\u001b[0m         \u001b[0mparser\u001b[0m\u001b[1;33m.\u001b[0m\u001b[0mclose\u001b[0m\u001b[1;33m(\u001b[0m\u001b[1;33m)\u001b[0m\u001b[1;33m\u001b[0m\u001b[1;33m\u001b[0m\u001b[0m\n",
      "\u001b[1;32mC:\\ProgramData\\Anaconda3\\lib\\site-packages\\pandas\\io\\parsers.py\u001b[0m in \u001b[0;36mread\u001b[1;34m(self, nrows)\u001b[0m\n\u001b[0;32m   1152\u001b[0m     \u001b[1;32mdef\u001b[0m \u001b[0mread\u001b[0m\u001b[1;33m(\u001b[0m\u001b[0mself\u001b[0m\u001b[1;33m,\u001b[0m \u001b[0mnrows\u001b[0m\u001b[1;33m=\u001b[0m\u001b[1;32mNone\u001b[0m\u001b[1;33m)\u001b[0m\u001b[1;33m:\u001b[0m\u001b[1;33m\u001b[0m\u001b[1;33m\u001b[0m\u001b[0m\n\u001b[0;32m   1153\u001b[0m         \u001b[0mnrows\u001b[0m \u001b[1;33m=\u001b[0m \u001b[0m_validate_integer\u001b[0m\u001b[1;33m(\u001b[0m\u001b[1;34m\"nrows\"\u001b[0m\u001b[1;33m,\u001b[0m \u001b[0mnrows\u001b[0m\u001b[1;33m)\u001b[0m\u001b[1;33m\u001b[0m\u001b[1;33m\u001b[0m\u001b[0m\n\u001b[1;32m-> 1154\u001b[1;33m         \u001b[0mret\u001b[0m \u001b[1;33m=\u001b[0m \u001b[0mself\u001b[0m\u001b[1;33m.\u001b[0m\u001b[0m_engine\u001b[0m\u001b[1;33m.\u001b[0m\u001b[0mread\u001b[0m\u001b[1;33m(\u001b[0m\u001b[0mnrows\u001b[0m\u001b[1;33m)\u001b[0m\u001b[1;33m\u001b[0m\u001b[1;33m\u001b[0m\u001b[0m\n\u001b[0m\u001b[0;32m   1155\u001b[0m \u001b[1;33m\u001b[0m\u001b[0m\n\u001b[0;32m   1156\u001b[0m         \u001b[1;31m# May alter columns / col_dict\u001b[0m\u001b[1;33m\u001b[0m\u001b[1;33m\u001b[0m\u001b[1;33m\u001b[0m\u001b[0m\n",
      "\u001b[1;32mC:\\ProgramData\\Anaconda3\\lib\\site-packages\\pandas\\io\\parsers.py\u001b[0m in \u001b[0;36mread\u001b[1;34m(self, nrows)\u001b[0m\n\u001b[0;32m   2057\u001b[0m     \u001b[1;32mdef\u001b[0m \u001b[0mread\u001b[0m\u001b[1;33m(\u001b[0m\u001b[0mself\u001b[0m\u001b[1;33m,\u001b[0m \u001b[0mnrows\u001b[0m\u001b[1;33m=\u001b[0m\u001b[1;32mNone\u001b[0m\u001b[1;33m)\u001b[0m\u001b[1;33m:\u001b[0m\u001b[1;33m\u001b[0m\u001b[1;33m\u001b[0m\u001b[0m\n\u001b[0;32m   2058\u001b[0m         \u001b[1;32mtry\u001b[0m\u001b[1;33m:\u001b[0m\u001b[1;33m\u001b[0m\u001b[1;33m\u001b[0m\u001b[0m\n\u001b[1;32m-> 2059\u001b[1;33m             \u001b[0mdata\u001b[0m \u001b[1;33m=\u001b[0m \u001b[0mself\u001b[0m\u001b[1;33m.\u001b[0m\u001b[0m_reader\u001b[0m\u001b[1;33m.\u001b[0m\u001b[0mread\u001b[0m\u001b[1;33m(\u001b[0m\u001b[0mnrows\u001b[0m\u001b[1;33m)\u001b[0m\u001b[1;33m\u001b[0m\u001b[1;33m\u001b[0m\u001b[0m\n\u001b[0m\u001b[0;32m   2060\u001b[0m         \u001b[1;32mexcept\u001b[0m \u001b[0mStopIteration\u001b[0m\u001b[1;33m:\u001b[0m\u001b[1;33m\u001b[0m\u001b[1;33m\u001b[0m\u001b[0m\n\u001b[0;32m   2061\u001b[0m             \u001b[1;32mif\u001b[0m \u001b[0mself\u001b[0m\u001b[1;33m.\u001b[0m\u001b[0m_first_chunk\u001b[0m\u001b[1;33m:\u001b[0m\u001b[1;33m\u001b[0m\u001b[1;33m\u001b[0m\u001b[0m\n",
      "\u001b[1;32mpandas\\_libs\\parsers.pyx\u001b[0m in \u001b[0;36mpandas._libs.parsers.TextReader.read\u001b[1;34m()\u001b[0m\n",
      "\u001b[1;32mpandas\\_libs\\parsers.pyx\u001b[0m in \u001b[0;36mpandas._libs.parsers.TextReader._read_low_memory\u001b[1;34m()\u001b[0m\n",
      "\u001b[1;32mpandas\\_libs\\parsers.pyx\u001b[0m in \u001b[0;36mpandas._libs.parsers.TextReader._read_rows\u001b[1;34m()\u001b[0m\n",
      "\u001b[1;32mpandas\\_libs\\parsers.pyx\u001b[0m in \u001b[0;36mpandas._libs.parsers.TextReader._convert_column_data\u001b[1;34m()\u001b[0m\n",
      "\u001b[1;32mpandas\\_libs\\parsers.pyx\u001b[0m in \u001b[0;36mpandas._libs.parsers.TextReader._convert_tokens\u001b[1;34m()\u001b[0m\n",
      "\u001b[1;32mpandas\\_libs\\parsers.pyx\u001b[0m in \u001b[0;36mpandas._libs.parsers.TextReader._convert_with_dtype\u001b[1;34m()\u001b[0m\n",
      "\u001b[1;32mC:\\ProgramData\\Anaconda3\\lib\\site-packages\\pandas\\core\\dtypes\\common.py\u001b[0m in \u001b[0;36mis_categorical_dtype\u001b[1;34m(arr_or_dtype)\u001b[0m\n\u001b[0;32m    676\u001b[0m \u001b[1;33m\u001b[0m\u001b[0m\n\u001b[0;32m    677\u001b[0m \u001b[1;33m\u001b[0m\u001b[0m\n\u001b[1;32m--> 678\u001b[1;33m \u001b[1;32mdef\u001b[0m \u001b[0mis_categorical_dtype\u001b[0m\u001b[1;33m(\u001b[0m\u001b[0marr_or_dtype\u001b[0m\u001b[1;33m)\u001b[0m\u001b[1;33m:\u001b[0m\u001b[1;33m\u001b[0m\u001b[1;33m\u001b[0m\u001b[0m\n\u001b[0m\u001b[0;32m    679\u001b[0m     \"\"\"\n\u001b[0;32m    680\u001b[0m     \u001b[0mCheck\u001b[0m \u001b[0mwhether\u001b[0m \u001b[0man\u001b[0m \u001b[0marray\u001b[0m\u001b[1;33m-\u001b[0m\u001b[0mlike\u001b[0m \u001b[1;32mor\u001b[0m \u001b[0mdtype\u001b[0m \u001b[1;32mis\u001b[0m \u001b[0mof\u001b[0m \u001b[0mthe\u001b[0m \u001b[0mCategorical\u001b[0m \u001b[0mdtype\u001b[0m\u001b[1;33m.\u001b[0m\u001b[1;33m\u001b[0m\u001b[1;33m\u001b[0m\u001b[0m\n",
      "\u001b[1;31mKeyboardInterrupt\u001b[0m: "
     ]
    }
   ],
   "source": [
    "%%time\n",
    "# find video lengths and make list. Otherwise we don't know how much principal components we can use per video. \n",
    "# The number of principal components is limited to the number of frames available for analysis.\n",
    "\n",
    "\n",
    "def frames_per_vid(file_locations=list):\n",
    "    frames = np.zeros((len(file_locations)))\n",
    "    for i in range(len(file_locations)):\n",
    "        df = pd.read_csv(file_locations[i])\n",
    "        df = len(df[df[' success'] != 0])\n",
    "        \n",
    "        frames[i] = df\n",
    "        \n",
    "        if i%100 == 0:\n",
    "            print(i)\n",
    "    \n",
    "    return frames\n",
    "number_of_readable_frames_per_video_train = frames_per_vid(file_locations_train_csv)\n",
    "number_of_readable_frames_per_video_val = frames_per_vid(file_locations_val_csv)\n",
    "#\n",
    "#np.save('number_readable_frames_train.py', number_of_readable_frames_per_video_train)\n",
    "#np.save('number_readable_frames_val.py', number_of_readable_frames_per_video_val)"
   ]
  },
  {
   "cell_type": "code",
   "execution_count": 146,
   "metadata": {},
   "outputs": [
    {
     "data": {
      "text/plain": [
       "[<matplotlib.lines.Line2D at 0x21603150358>]"
      ]
     },
     "execution_count": 146,
     "metadata": {},
     "output_type": "execute_result"
    },
    {
     "data": {
      "image/png": "[encoded data removed]",
      "text/plain": [
       "<Figure size 432x288 with 1 Axes>"
      ]
     },
     "metadata": {
      "needs_background": "light"
     },
     "output_type": "display_data"
    }
   ],
   "source": [
    "# plot usable frames\n",
    "\n",
    "import matplotlib.pyplot as plt\n",
    "plt.plot(number_of_readable_frames_per_video_val)"
   ]
  },
  {
   "cell_type": "code",
   "execution_count": 13,
   "metadata": {},
   "outputs": [
    {
     "name": "stdout",
     "output_type": "stream",
     "text": [
      "0\n",
      "50\n",
      "100\n"
     ]
    },
    {
     "ename": "KeyboardInterrupt",
     "evalue": "",
     "output_type": "error",
     "traceback": [
      "\u001b[1;31m---------------------------------------------------------------------------\u001b[0m",
      "\u001b[1;31mKeyboardInterrupt\u001b[0m                         Traceback (most recent call last)",
      "\u001b[1;32m<ipython-input-13-fafd62191b26>\u001b[0m in \u001b[0;36m<module>\u001b[1;34m\u001b[0m\n\u001b[0;32m     39\u001b[0m     \u001b[1;32mreturn\u001b[0m \u001b[0mdata\u001b[0m\u001b[1;33m\u001b[0m\u001b[1;33m\u001b[0m\u001b[0m\n\u001b[0;32m     40\u001b[0m \u001b[1;33m\u001b[0m\u001b[0m\n\u001b[1;32m---> 41\u001b[1;33m \u001b[0mtrain\u001b[0m \u001b[1;33m=\u001b[0m \u001b[0mhog_feature\u001b[0m\u001b[1;33m(\u001b[0m\u001b[0mpca_components\u001b[0m \u001b[1;33m=\u001b[0m \u001b[1;36m10\u001b[0m\u001b[1;33m,\u001b[0m \u001b[0mfile_locations\u001b[0m \u001b[1;33m=\u001b[0m \u001b[0mfile_locations_train_hog\u001b[0m\u001b[1;33m)\u001b[0m \u001b[1;31m#>225 components gives problems because some videos have less than 230 frames\u001b[0m\u001b[1;33m\u001b[0m\u001b[1;33m\u001b[0m\u001b[0m\n\u001b[0m\u001b[0;32m     42\u001b[0m \u001b[1;33m\u001b[0m\u001b[0m\n\u001b[0;32m     43\u001b[0m \u001b[1;31m#file_locations_val, file_locations_train\u001b[0m\u001b[1;33m\u001b[0m\u001b[1;33m\u001b[0m\u001b[1;33m\u001b[0m\u001b[0m\n",
      "\u001b[1;32m<ipython-input-13-fafd62191b26>\u001b[0m in \u001b[0;36mhog_feature\u001b[1;34m(pca_components, file_locations)\u001b[0m\n\u001b[0;32m     13\u001b[0m     \u001b[1;32mfor\u001b[0m \u001b[0mi\u001b[0m \u001b[1;32min\u001b[0m \u001b[0mrange\u001b[0m\u001b[1;33m(\u001b[0m\u001b[0mlen\u001b[0m\u001b[1;33m(\u001b[0m\u001b[0mfile_locations\u001b[0m\u001b[1;33m)\u001b[0m\u001b[1;33m)\u001b[0m\u001b[1;33m:\u001b[0m\u001b[1;33m\u001b[0m\u001b[1;33m\u001b[0m\u001b[0m\n\u001b[0;32m     14\u001b[0m \u001b[1;33m\u001b[0m\u001b[0m\n\u001b[1;32m---> 15\u001b[1;33m         \u001b[0mvalid\u001b[0m\u001b[1;33m,\u001b[0m \u001b[0mfeature_vectors\u001b[0m \u001b[1;33m=\u001b[0m \u001b[0mread_hog\u001b[0m\u001b[1;33m(\u001b[0m\u001b[0mfile_locations\u001b[0m\u001b[1;33m[\u001b[0m\u001b[0mi\u001b[0m\u001b[1;33m]\u001b[0m\u001b[1;33m,\u001b[0m \u001b[0mbatch_size\u001b[0m\u001b[1;33m=\u001b[0m\u001b[1;36m5000\u001b[0m\u001b[1;33m)\u001b[0m\u001b[1;33m\u001b[0m\u001b[1;33m\u001b[0m\u001b[0m\n\u001b[0m\u001b[0;32m     16\u001b[0m         \u001b[1;31m# delete frames where no face is detected\u001b[0m\u001b[1;33m\u001b[0m\u001b[1;33m\u001b[0m\u001b[1;33m\u001b[0m\u001b[0m\n\u001b[0;32m     17\u001b[0m         \u001b[0mfeature_vectors\u001b[0m \u001b[1;33m=\u001b[0m \u001b[0mnp\u001b[0m\u001b[1;33m.\u001b[0m\u001b[0mdelete\u001b[0m\u001b[1;33m(\u001b[0m\u001b[0mfeature_vectors\u001b[0m\u001b[1;33m,\u001b[0m \u001b[0mnp\u001b[0m\u001b[1;33m.\u001b[0m\u001b[0mwhere\u001b[0m\u001b[1;33m(\u001b[0m\u001b[0mvalid\u001b[0m \u001b[1;33m==\u001b[0m \u001b[1;33m-\u001b[0m\u001b[1;36m1\u001b[0m\u001b[1;33m)\u001b[0m\u001b[1;33m,\u001b[0m \u001b[0maxis\u001b[0m\u001b[1;33m=\u001b[0m\u001b[1;36m0\u001b[0m\u001b[1;33m)\u001b[0m\u001b[1;33m\u001b[0m\u001b[1;33m\u001b[0m\u001b[0m\n",
      "\u001b[1;32m<ipython-input-1-fa8f815cba9e>\u001b[0m in \u001b[0;36mread_hog\u001b[1;34m(filename, batch_size)\u001b[0m\n\u001b[0;32m     16\u001b[0m     \"\"\"\n\u001b[0;32m     17\u001b[0m     \u001b[0mall_feature_vectors\u001b[0m \u001b[1;33m=\u001b[0m \u001b[1;33m[\u001b[0m\u001b[1;33m]\u001b[0m\u001b[1;33m\u001b[0m\u001b[1;33m\u001b[0m\u001b[0m\n\u001b[1;32m---> 18\u001b[1;33m     \u001b[1;32mwith\u001b[0m \u001b[0mopen\u001b[0m\u001b[1;33m(\u001b[0m\u001b[0mfilename\u001b[0m\u001b[1;33m,\u001b[0m \u001b[1;34m\"rb\"\u001b[0m\u001b[1;33m)\u001b[0m \u001b[1;32mas\u001b[0m \u001b[0mf\u001b[0m\u001b[1;33m:\u001b[0m\u001b[1;33m\u001b[0m\u001b[1;33m\u001b[0m\u001b[0m\n\u001b[0m\u001b[0;32m     19\u001b[0m         \u001b[0mnum_cols\u001b[0m\u001b[1;33m,\u001b[0m \u001b[1;33m=\u001b[0m \u001b[0mstruct\u001b[0m\u001b[1;33m.\u001b[0m\u001b[0munpack\u001b[0m\u001b[1;33m(\u001b[0m\u001b[1;34m\"i\"\u001b[0m\u001b[1;33m,\u001b[0m \u001b[0mf\u001b[0m\u001b[1;33m.\u001b[0m\u001b[0mread\u001b[0m\u001b[1;33m(\u001b[0m\u001b[1;36m4\u001b[0m\u001b[1;33m)\u001b[0m\u001b[1;33m)\u001b[0m\u001b[1;33m\u001b[0m\u001b[1;33m\u001b[0m\u001b[0m\n\u001b[0;32m     20\u001b[0m         \u001b[0mnum_rows\u001b[0m\u001b[1;33m,\u001b[0m \u001b[1;33m=\u001b[0m \u001b[0mstruct\u001b[0m\u001b[1;33m.\u001b[0m\u001b[0munpack\u001b[0m\u001b[1;33m(\u001b[0m\u001b[1;34m\"i\"\u001b[0m\u001b[1;33m,\u001b[0m \u001b[0mf\u001b[0m\u001b[1;33m.\u001b[0m\u001b[0mread\u001b[0m\u001b[1;33m(\u001b[0m\u001b[1;36m4\u001b[0m\u001b[1;33m)\u001b[0m\u001b[1;33m)\u001b[0m\u001b[1;33m\u001b[0m\u001b[1;33m\u001b[0m\u001b[0m\n",
      "\u001b[1;31mKeyboardInterrupt\u001b[0m: "
     ]
    }
   ],
   "source": [
    "def hog_feature(pca_components, file_locations=list):\n",
    "\n",
    "    path = file_locations[0]\n",
    "    valid, feature_vectors = read_hog(path, batch_size=5000)\n",
    "    \n",
    "    # delete frames where no face is detected\n",
    "    feature_vectors = np.delete(feature_vectors, np.where(valid == -1), axis=0)\n",
    "    \n",
    "    pca_components = pca_components\n",
    "    data = np.zeros((len(file_locations),pca_components))\n",
    "    #data_vel = \n",
    "    #data_accel = \n",
    "    for i in range(len(file_locations)):\n",
    "    \n",
    "        valid, feature_vectors = read_hog(file_locations[i], batch_size=5000)\n",
    "        # delete frames where no face is detected\n",
    "        feature_vectors = np.delete(feature_vectors, np.where(valid == -1), axis=0)   \n",
    "        \n",
    "        ##############################\n",
    "        \n",
    "        \n",
    "        #feature engineering\n",
    "        #data[i,:] = np.mean(feature_vectors, axis=0)\n",
    "        pca = PCA(n_components=pca_components)\n",
    "        pca.fit(feature_vectors)\n",
    "        data[i,:] = pca.singular_values_\n",
    "        print()\n",
    "        \n",
    "        ##velocity - feature_vectors = vel\n",
    "        #feature_vectors = np.diff(feature_vectors)\n",
    "        #data = np.hstack((train, np.mean(feature_vectors, axis=0))\n",
    "        #\n",
    "        ##acceleration - feature_vectors = accel\n",
    "        #feature_vectors = np.diff(feature_vectors)\n",
    "        #data = np.hstack((train, np.mean(feature_vectors, axis=0))\n",
    "        \n",
    "        if i%50 == 0:\n",
    "            print(i) \n",
    "                          \n",
    "    return data\n",
    "\n",
    "train = hog_feature(pca_components = 10, file_locations = file_locations_train_hog) #>225 components gives problems because some videos have less than 230 frames\n",
    "                       \n",
    "#file_locations_val, file_locations_train"
   ]
  },
  {
   "cell_type": "code",
   "execution_count": null,
   "metadata": {},
   "outputs": [],
   "source": [
    "train"
   ]
  },
  {
   "cell_type": "code",
   "execution_count": 11,
   "metadata": {},
   "outputs": [
    {
     "ename": "NameError",
     "evalue": "name 'file_locations_train' is not defined",
     "output_type": "error",
     "traceback": [
      "\u001b[1;31m---------------------------------------------------------------------------\u001b[0m",
      "\u001b[1;31mNameError\u001b[0m                                 Traceback (most recent call last)",
      "\u001b[1;32m<timed exec>\u001b[0m in \u001b[0;36m<module>\u001b[1;34m\u001b[0m\n",
      "\u001b[1;31mNameError\u001b[0m: name 'file_locations_train' is not defined"
     ]
    }
   ],
   "source": [
    "%%time\n",
    "print(len(file_locations_train))\n",
    "print(feature_vectors.shape)\n",
    "\n",
    "\n",
    "train = np.zeros((len(file_locations_train),feature_vectors.shape[1]))\n",
    "for i in range(len(file_locations_train)):\n",
    "    \n",
    "    valid, feature_vectors = read_hog(file_locations_train[i], batch_size=5000)\n",
    "    # delete frames where no face is detected\n",
    "    feature_vectors = np.delete(feature_vectors, np.where(valid == -1), axis=0)   \n",
    "    \n",
    "    ##############################\n",
    "    \n",
    "    \n",
    "    #feature engineering\n",
    "    #train[i,:] = np.mean(feature_vectors, axis=0)\n",
    "    \n",
    "    ######## WORK IN PROGRESS  ########  #velocity - feature_vectors = vel\n",
    "    ######## WORK IN PROGRESS  ########  feature_vectors = np.diff(feature_vectors)\n",
    "    ######## WORK IN PROGRESS  ########  train = np.hstack((train, np.mean(feature_vectors, axis=0))\n",
    "    ######## WORK IN PROGRESS  ########  \n",
    "    ######## WORK IN PROGRESS  ########  #acceleration - feature_vectors = accel\n",
    "    ######## WORK IN PROGRESS  ########  feature_vectors = np.diff(feature_vectors)\n",
    "    ######## WORK IN PROGRESS  ########  train = np.hstack((train, np.mean(feature_vectors, axis=0))\n",
    "    \n",
    "    if i%50 == 0:\n",
    "        print(i) \n",
    "\n",
    "print(train.shape)"
   ]
  },
  {
   "cell_type": "code",
   "execution_count": 19,
   "metadata": {},
   "outputs": [
    {
     "name": "stdout",
     "output_type": "stream",
     "text": [
      "6000\n",
      "(438, 4464)\n",
      "0\n",
      "(383, 4464)\n",
      "(459, 4464)\n",
      "(459, 4464)\n",
      "(449, 4464)\n",
      "(459, 4464)\n",
      "(383, 4464)\n",
      "(457, 4464)\n",
      "(445, 4464)\n",
      "(459, 4464)\n",
      "(459, 4464)\n",
      "10\n",
      "(459, 4464)\n",
      "(459, 4464)\n",
      "(459, 4464)\n",
      "(383, 4464)\n",
      "(367, 4464)\n",
      "(459, 4464)\n",
      "(459, 4464)\n",
      "(459, 4464)\n",
      "(459, 4464)\n",
      "(367, 4464)\n",
      "20\n",
      "(383, 4464)\n",
      "(459, 4464)\n",
      "(367, 4464)\n",
      "(367, 4464)\n",
      "(459, 4464)\n",
      "(333, 4464)\n",
      "(459, 4464)\n",
      "(457, 4464)\n",
      "(459, 4464)\n",
      "(459, 4464)\n",
      "30\n",
      "(459, 4464)\n",
      "(383, 4464)\n",
      "(459, 4464)\n",
      "(454, 4464)\n",
      "(459, 4464)\n",
      "(459, 4464)\n",
      "(459, 4464)\n",
      "(459, 4464)\n",
      "(459, 4464)\n",
      "(459, 4464)\n",
      "40\n",
      "(459, 4464)\n",
      "(459, 4464)\n",
      "(383, 4464)\n",
      "(459, 4464)\n",
      "(453, 4464)\n",
      "(459, 4464)\n",
      "(455, 4464)\n",
      "(438, 4464)\n",
      "(459, 4464)\n",
      "(4464,)\n",
      "Wall time: 13.3 s\n"
     ]
    }
   ],
   "source": [
    "#%%time\n",
    "##single hog array\n",
    "#print(len(file_locations_train))\n",
    "#\n",
    "#\n",
    "#hog_full_train = []\n",
    "#for i in range(len(file_locations_train[:50])):\n",
    "#    \n",
    "#    valid, feature_vectors = read_hog(file_locations_train[i], batch_size=5000)\n",
    "#    # delete frames where no face is detected\n",
    "#    feature_vectors = np.delete(feature_vectors, np.where(valid == -1), axis=0)   \n",
    "#    \n",
    "#    ##############################\n",
    "#    \n",
    "#    #print(feature_vectors.shape)\n",
    "#    #fill array\n",
    "#    hog_full_train.append(feature_vectors)\n",
    "#    \n",
    "#    ######## WORK IN PROGRESS  ########  #velocity - feature_vectors = vel\n",
    "#    ######## WORK IN PROGRESS  ########  feature_vectors = np.diff(feature_vectors)\n",
    "#    ######## WORK IN PROGRESS  ########  train = np.hstack((train, np.mean(feature_vectors, axis=0))\n",
    "#    ######## WORK IN PROGRESS  ########  \n",
    "#    ######## WORK IN PROGRESS  ########  #acceleration - feature_vectors = accel\n",
    "#    ######## WORK IN PROGRESS  ########  feature_vectors = np.diff(feature_vectors)\n",
    "#    ######## WORK IN PROGRESS  ########  train = np.hstack((train, np.mean(feature_vectors, axis=0))\n",
    "#    \n",
    "#    if i%10 == 0:\n",
    "#        print(i) \n",
    "#\n",
    "#print(train.shape)"
   ]
  },
  {
   "cell_type": "code",
   "execution_count": 14,
   "metadata": {},
   "outputs": [
    {
     "data": {
      "text/plain": [
       "list"
      ]
     },
     "execution_count": 14,
     "metadata": {},
     "output_type": "execute_result"
    }
   ],
   "source": []
  },
  {
   "cell_type": "code",
   "execution_count": 60,
   "metadata": {},
   "outputs": [
    {
     "name": "stdout",
     "output_type": "stream",
     "text": [
      "2000\n",
      "0\n",
      "10\n",
      "20\n",
      "30\n",
      "40\n",
      "50\n",
      "60\n",
      "70\n",
      "80\n",
      "90\n",
      "100\n",
      "110\n",
      "120\n",
      "130\n",
      "140\n",
      "150\n",
      "160\n",
      "170\n",
      "180\n",
      "190\n",
      "200\n",
      "210\n",
      "220\n",
      "230\n",
      "240\n",
      "250\n",
      "260\n",
      "270\n",
      "280\n",
      "290\n",
      "300\n",
      "310\n",
      "320\n",
      "330\n",
      "340\n",
      "350\n",
      "360\n",
      "370\n",
      "380\n",
      "390\n",
      "400\n",
      "410\n",
      "420\n",
      "430\n",
      "440\n",
      "450\n",
      "460\n",
      "470\n",
      "480\n",
      "490\n",
      "500\n",
      "510\n",
      "520\n",
      "530\n",
      "540\n",
      "550\n",
      "560\n",
      "570\n",
      "580\n",
      "590\n",
      "600\n",
      "610\n",
      "620\n",
      "630\n",
      "640\n",
      "650\n",
      "660\n",
      "670\n",
      "680\n",
      "690\n",
      "700\n",
      "710\n",
      "720\n",
      "730\n",
      "740\n",
      "750\n",
      "760\n",
      "770\n",
      "780\n",
      "790\n",
      "800\n",
      "810\n",
      "820\n",
      "830\n",
      "840\n",
      "850\n",
      "860\n",
      "870\n",
      "880\n",
      "890\n",
      "900\n",
      "910\n",
      "920\n",
      "930\n",
      "940\n",
      "950\n",
      "960\n",
      "970\n",
      "980\n",
      "990\n",
      "1000\n",
      "1010\n",
      "1020\n",
      "1030\n",
      "1040\n",
      "1050\n",
      "1060\n",
      "1070\n",
      "1080\n",
      "1090\n",
      "1100\n",
      "1110\n",
      "1120\n",
      "1130\n",
      "1140\n",
      "1150\n",
      "1160\n",
      "1170\n",
      "1180\n",
      "1190\n",
      "1200\n",
      "1210\n",
      "1220\n",
      "1230\n",
      "1240\n",
      "1250\n",
      "1260\n",
      "1270\n",
      "1280\n",
      "1290\n",
      "1300\n",
      "1310\n",
      "1320\n",
      "1330\n",
      "1340\n",
      "1350\n",
      "1360\n",
      "1370\n",
      "1380\n",
      "1390\n",
      "1400\n",
      "1410\n",
      "1420\n",
      "1430\n",
      "1440\n",
      "1450\n",
      "1460\n",
      "1470\n",
      "1480\n",
      "1490\n",
      "1500\n",
      "1510\n",
      "1520\n",
      "1530\n",
      "1540\n",
      "1550\n",
      "1560\n",
      "1570\n",
      "1580\n",
      "1590\n",
      "1600\n",
      "1610\n",
      "1620\n",
      "1630\n",
      "1640\n",
      "1650\n",
      "1660\n",
      "1670\n",
      "1680\n",
      "1690\n",
      "1700\n",
      "1710\n",
      "1720\n",
      "1730\n",
      "1740\n",
      "1750\n",
      "1760\n",
      "1770\n",
      "1780\n",
      "1790\n",
      "1800\n",
      "1810\n",
      "1820\n",
      "1830\n",
      "1840\n",
      "1850\n",
      "1860\n",
      "1870\n",
      "1880\n",
      "1890\n",
      "1900\n",
      "1910\n",
      "1920\n",
      "1930\n",
      "1940\n",
      "1950\n",
      "1960\n",
      "1970\n",
      "1980\n",
      "1990\n",
      "(2000, 4464)\n",
      "Wall time: 6min 34s\n"
     ]
    }
   ],
   "source": [
    "%%time\n",
    "print(len(file_locations_val))\n",
    "\n",
    "\n",
    "val = np.zeros((len(file_locations_val),feature_vectors.shape[1]))\n",
    "for i in range(len(file_locations_val)):\n",
    "    valid, feature_vectors = read_hog(file_locations_val[i], batch_size=5000)\n",
    "    val[i,:] = np.mean(feature_vectors, axis=0)\n",
    "    \n",
    "    if i%10 == 0:\n",
    "        print(i) \n",
    "\n",
    "print(val.shape)"
   ]
  },
  {
   "cell_type": "code",
   "execution_count": 6,
   "metadata": {},
   "outputs": [],
   "source": [
    "##np.save('train_hog_mean', train)\n",
    "#train = np.load('train_hog_mean.npy', allow_pickle=True)\n",
    "##np.save('val_hog_mean', val)\n",
    "#val = np.load('val_hog_mean.npy', allow_pickle=True)"
   ]
  },
  {
   "cell_type": "code",
   "execution_count": 10,
   "metadata": {},
   "outputs": [
    {
     "name": "stdout",
     "output_type": "stream",
     "text": [
      "(6000, 4464)\n",
      "(2000, 4464)\n"
     ]
    }
   ],
   "source": [
    "print(train.shape)\n",
    "print(val.shape)"
   ]
  },
  {
   "cell_type": "code",
   "execution_count": 20,
   "metadata": {},
   "outputs": [
    {
     "data": {
      "text/plain": [
       "746.3785400390625"
      ]
     },
     "execution_count": 20,
     "metadata": {},
     "output_type": "execute_result"
    }
   ],
   "source": [
    "#!pip install pympler\n",
    "import sys\n",
    "from pympler.asizeof import asizeof\n",
    "\n",
    "#sys.getsizeof(hog_full_train[0])\n",
    "\n",
    "asizeof(hog_full_train)/(1024**2)"
   ]
  },
  {
   "cell_type": "markdown",
   "metadata": {},
   "source": [
    "# create target labels"
   ]
  },
  {
   "cell_type": "code",
   "execution_count": 9,
   "metadata": {},
   "outputs": [
    {
     "ename": "NameError",
     "evalue": "name 'file_locations_train' is not defined",
     "output_type": "error",
     "traceback": [
      "\u001b[1;31m---------------------------------------------------------------------------\u001b[0m",
      "\u001b[1;31mNameError\u001b[0m                                 Traceback (most recent call last)",
      "\u001b[1;32m<ipython-input-9-6d0623a33d20>\u001b[0m in \u001b[0;36m<module>\u001b[1;34m\u001b[0m\n\u001b[0;32m     19\u001b[0m     \u001b[1;32mreturn\u001b[0m \u001b[0mdf_y\u001b[0m\u001b[1;33m\u001b[0m\u001b[1;33m\u001b[0m\u001b[0m\n\u001b[0;32m     20\u001b[0m \u001b[1;33m\u001b[0m\u001b[0m\n\u001b[1;32m---> 21\u001b[1;33m \u001b[0mtrain_labels\u001b[0m \u001b[1;33m=\u001b[0m \u001b[0mcreate_labels\u001b[0m\u001b[1;33m(\u001b[0m\u001b[0mpd\u001b[0m\u001b[1;33m.\u001b[0m\u001b[0mread_pickle\u001b[0m\u001b[1;33m(\u001b[0m\u001b[1;34m'annotation_training.pkl'\u001b[0m\u001b[1;33m)\u001b[0m\u001b[1;33m,\u001b[0m \u001b[0mfile_locations_train\u001b[0m\u001b[1;33m)\u001b[0m\u001b[1;33m\u001b[0m\u001b[1;33m\u001b[0m\u001b[0m\n\u001b[0m\u001b[0;32m     22\u001b[0m \u001b[0mval_labels\u001b[0m \u001b[1;33m=\u001b[0m \u001b[0mcreate_labels\u001b[0m\u001b[1;33m(\u001b[0m\u001b[0mpd\u001b[0m\u001b[1;33m.\u001b[0m\u001b[0mread_pickle\u001b[0m\u001b[1;33m(\u001b[0m\u001b[1;34m'annotation_validation.pkl'\u001b[0m\u001b[1;33m)\u001b[0m\u001b[1;33m,\u001b[0m \u001b[0mfile_locations_val\u001b[0m\u001b[1;33m)\u001b[0m\u001b[1;33m\u001b[0m\u001b[1;33m\u001b[0m\u001b[0m\n\u001b[0;32m     23\u001b[0m \u001b[0mprint\u001b[0m\u001b[1;33m(\u001b[0m\u001b[0mtrain_labels\u001b[0m\u001b[1;33m)\u001b[0m\u001b[1;33m\u001b[0m\u001b[1;33m\u001b[0m\u001b[0m\n",
      "\u001b[1;31mNameError\u001b[0m: name 'file_locations_train' is not defined"
     ]
    }
   ],
   "source": [
    "import pandas as pd\n",
    "def create_labels(pickle_file, file_locations):\n",
    "    # training labels\n",
    "    video_id = []\n",
    "    interview_score = []\n",
    "    for i in pickle_file['interview']:\n",
    "        video_id.append(i)\n",
    "        \n",
    "    for video in video_id:\n",
    "        interview_score.append(pickle_file['interview'][video])\n",
    "    \n",
    "    df_y = pd.DataFrame(\n",
    "    {'video_id': video_id,\n",
    "     'interview_score': interview_score,\n",
    "    })\n",
    "    \n",
    "    df_y[\"video_id\"] = df_y[\"video_id\"].str.replace(\".mp4\", \"\")\n",
    "    \n",
    "    return df_y\n",
    "\n",
    "train_labels = create_labels(pd.read_pickle('annotation_training.pkl'), file_locations_train)\n",
    "val_labels = create_labels(pd.read_pickle('annotation_validation.pkl'), file_locations_val)\n",
    "print(train_labels)"
   ]
  },
  {
   "cell_type": "code",
   "execution_count": null,
   "metadata": {},
   "outputs": [],
   "source": []
  },
  {
   "cell_type": "code",
   "execution_count": 63,
   "metadata": {},
   "outputs": [],
   "source": [
    "## names\n",
    "#special = '.hog' # that's better \n",
    "#\n",
    "#video_id_train_loopy = video_id_train\n",
    "#video_id_train_loopy[:] = [item.rstrip(special) for item in video_id_train]\n",
    "#video_id_train_loopy\n",
    "#\n",
    "#video_id_train_loopy = train_labels[train_labels['video_id'].isin(video_id_train_loopy)]"
   ]
  },
  {
   "cell_type": "markdown",
   "metadata": {},
   "source": [
    "# Predictions"
   ]
  },
  {
   "cell_type": "code",
   "execution_count": 110,
   "metadata": {},
   "outputs": [],
   "source": [
    "#avg_ground_truth = np.mean(np.hstack((video_id_train_loopy.iloc[:,-1], val_labels.iloc[:,-1].values)))\n",
    "#\n",
    "#def performance(y_true, y_pred, avg_ground_truth):\n",
    "#    score = (1/y_true.shape[0])*(np.sum(abs(y_true-y_pred)))/np.sum(abs(y_true-avg_ground_truth))\n",
    "#    print(avg_ground_truth)\n",
    "#    \n",
    "#    return 1 - score"
   ]
  },
  {
   "cell_type": "code",
   "execution_count": 111,
   "metadata": {},
   "outputs": [
    {
     "data": {
      "text/plain": [
       "0.8830107663551402"
      ]
     },
     "execution_count": 111,
     "metadata": {},
     "output_type": "execute_result"
    }
   ],
   "source": [
    "from sklearn.metrics import mean_squared_error, mean_absolute_error\n",
    "# baseline \n",
    "dumb_prediction = 1 - mean_absolute_error(val_labels.iloc[:,-1].values, np.full((2000,), np.mean(train_labels.iloc[:,-1])))\n",
    "\n",
    "dumb_prediction"
   ]
  },
  {
   "cell_type": "code",
   "execution_count": 112,
   "metadata": {},
   "outputs": [
    {
     "name": "stdout",
     "output_type": "stream",
     "text": [
      "Wall time: 31 s\n"
     ]
    },
    {
     "data": {
      "text/plain": [
       "0.7312214548250426"
      ]
     },
     "execution_count": 112,
     "metadata": {},
     "output_type": "execute_result"
    }
   ],
   "source": [
    "%%time\n",
    "# multilinear regression\n",
    "\n",
    "from sklearn.linear_model import LinearRegression\n",
    "\n",
    "reg = LinearRegression().fit(train, train_labels.iloc[:,-1] )\n",
    "\n",
    "y_pred_lin = reg.predict(val)\n",
    "1 - mean_absolute_error(val_labels.iloc[:,-1].values, y_pred_lin)"
   ]
  },
  {
   "cell_type": "code",
   "execution_count": 113,
   "metadata": {},
   "outputs": [
    {
     "name": "stdout",
     "output_type": "stream",
     "text": [
      "Wall time: 45.7 s\n"
     ]
    },
    {
     "data": {
      "text/plain": [
       "0.7312214548250426"
      ]
     },
     "execution_count": 113,
     "metadata": {},
     "output_type": "execute_result"
    }
   ],
   "source": [
    "%%time\n",
    "\n",
    "#  SVR\n",
    "\n",
    "from sklearn.svm import SVR\n",
    "from sklearn.pipeline import make_pipeline\n",
    "from sklearn.preprocessing import StandardScaler\n",
    "\n",
    "\n",
    "svr = make_pipeline(StandardScaler(), SVR(C=1, kernel='rbf', epsilon=0.2))\n",
    "svr.fit(train, train_labels.iloc[:,-1])\n",
    "#Pipeline(steps=[('standardscaler', StandardScaler()),\n",
    "#                ('svr', SVR(epsilon=0.2))])\n",
    "y_pred_svr = svr.predict(val)\n",
    "1 - mean_absolute_error(val_labels.iloc[:,-1].values, y_pred_lin)"
   ]
  },
  {
   "cell_type": "code",
   "execution_count": 114,
   "metadata": {
    "scrolled": true
   },
   "outputs": [
    {
     "name": "stdout",
     "output_type": "stream",
     "text": [
      "pca =  5  components\n",
      "method =  linear regression\n",
      "0.8830310740236659\n",
      "-----------------------------------\n",
      "pca =  10  components\n",
      "method =  linear regression\n",
      "0.8829970648653779\n",
      "-----------------------------------\n",
      "pca =  20  components\n",
      "method =  linear regression\n",
      "0.8826562891515164\n",
      "-----------------------------------\n",
      "pca =  50  components\n",
      "method =  linear regression\n",
      "0.882396850581244\n",
      "-----------------------------------\n",
      "pca =  100  components\n",
      "method =  linear regression\n",
      "0.8818889674109338\n",
      "-----------------------------------\n",
      "pca =  200  components\n",
      "method =  linear regression\n",
      "0.8803429812389328\n",
      "-----------------------------------\n",
      "pca =  300  components\n",
      "method =  linear regression\n",
      "0.8790797847829075\n",
      "-----------------------------------\n",
      "pca =  500  components\n",
      "method =  linear regression\n",
      "0.8771371017040159\n",
      "-----------------------------------\n"
     ]
    }
   ],
   "source": [
    "# PCA analysis\n",
    "from sklearn.decomposition import PCA\n",
    "n_list=[5,10,20,50,100,200,300,500]\n",
    "for n in n_list:    \n",
    "    pca = PCA(n_components=n)\n",
    "    pca.fit(train)\n",
    "    \n",
    "    reduced_train = pca.transform(train)\n",
    "    reduced_val = pca.transform(val)\n",
    "    \n",
    "    \n",
    "    reg = LinearRegression().fit(reduced_train, train_labels.iloc[:,-1])\n",
    "    y_pred_lin = reg.predict(reduced_val)\n",
    "    print('pca = ', n,' components')\n",
    "    print('method =  linear regression')\n",
    "    print(1 - mean_absolute_error(val_labels.iloc[:,-1].values, y_pred_lin))\n",
    "    print(35*'-')"
   ]
  },
  {
   "cell_type": "code",
   "execution_count": 108,
   "metadata": {},
   "outputs": [
    {
     "name": "stdout",
     "output_type": "stream",
     "text": [
      "neg mae: -0.399 (0.004)\n"
     ]
    }
   ],
   "source": [
    "# evaluate a logistic regression model using k-fold cross-validation\n",
    "from numpy import mean\n",
    "from numpy import std\n",
    "from sklearn.model_selection import KFold\n",
    "from sklearn.model_selection import cross_val_score\n",
    "# prepare the cross-validation procedure\n",
    "cv = KFold(n_splits=2, random_state=1, shuffle=True)\n",
    "# create model\n",
    "model = LinearRegression()\n",
    "# evaluate model\n",
    "scores = cross_val_score(model, train, train_labels.iloc[:,-1], scoring='neg_mean_absolute_error', cv=cv, n_jobs=-1)\n",
    "# report performance\n",
    "print('neg mae: %.3f (%.3f)' % (mean(scores), std(scores)))"
   ]
  },
  {
   "cell_type": "code",
   "execution_count": 109,
   "metadata": {},
   "outputs": [
    {
     "data": {
      "text/plain": [
       "0.6014534590105964"
      ]
     },
     "execution_count": 109,
     "metadata": {},
     "output_type": "execute_result"
    }
   ],
   "source": [
    "1+mean(scores)"
   ]
  },
  {
   "cell_type": "code",
   "execution_count": 99,
   "metadata": {},
   "outputs": [
    {
     "ename": "TypeError",
     "evalue": "'(slice(None, None, None), 1)' is an invalid key",
     "output_type": "error",
     "traceback": [
      "\u001b[1;31m---------------------------------------------------------------------------\u001b[0m",
      "\u001b[1;31mTypeError\u001b[0m                                 Traceback (most recent call last)",
      "\u001b[1;32m<ipython-input-99-560d00ed515c>\u001b[0m in \u001b[0;36m<module>\u001b[1;34m\u001b[0m\n\u001b[0;32m      7\u001b[0m \u001b[1;32mfor\u001b[0m \u001b[0mf\u001b[0m\u001b[1;33m,\u001b[0m \u001b[1;33m(\u001b[0m\u001b[0mtrain_ind\u001b[0m\u001b[1;33m,\u001b[0m \u001b[0mval_ind\u001b[0m\u001b[1;33m)\u001b[0m \u001b[1;32min\u001b[0m \u001b[0menumerate\u001b[0m\u001b[1;33m(\u001b[0m\u001b[0mkf\u001b[0m\u001b[1;33m.\u001b[0m\u001b[0msplit\u001b[0m\u001b[1;33m(\u001b[0m\u001b[0mtrain\u001b[0m\u001b[1;33m,\u001b[0m \u001b[0mtrain\u001b[0m\u001b[1;33m)\u001b[0m\u001b[1;33m)\u001b[0m\u001b[1;33m:\u001b[0m\u001b[1;33m\u001b[0m\u001b[1;33m\u001b[0m\u001b[0m\n\u001b[0;32m      8\u001b[0m     \u001b[0mtrain_segment\u001b[0m\u001b[1;33m,\u001b[0m \u001b[0mval_segment\u001b[0m \u001b[1;33m=\u001b[0m \u001b[0mtrain\u001b[0m\u001b[1;33m[\u001b[0m\u001b[0mtrain_ind\u001b[0m\u001b[1;33m]\u001b[0m\u001b[1;33m,\u001b[0m \u001b[0mtrain\u001b[0m\u001b[1;33m[\u001b[0m\u001b[0mval_ind\u001b[0m\u001b[1;33m]\u001b[0m\u001b[1;33m\u001b[0m\u001b[1;33m\u001b[0m\u001b[0m\n\u001b[1;32m----> 9\u001b[1;33m     \u001b[0mtrain_segment_label\u001b[0m\u001b[1;33m,\u001b[0m \u001b[0mval_segment_label\u001b[0m\u001b[1;33m=\u001b[0m \u001b[0mtrain_labels\u001b[0m\u001b[1;33m[\u001b[0m\u001b[1;33m:\u001b[0m\u001b[1;33m,\u001b[0m\u001b[1;36m1\u001b[0m\u001b[1;33m]\u001b[0m\u001b[1;33m[\u001b[0m\u001b[0mtrain_ind\u001b[0m\u001b[1;33m]\u001b[0m\u001b[1;33m,\u001b[0m \u001b[0mtrain_labels\u001b[0m\u001b[1;33m[\u001b[0m\u001b[1;33m:\u001b[0m\u001b[1;33m,\u001b[0m\u001b[1;36m1\u001b[0m\u001b[1;33m]\u001b[0m\u001b[1;33m[\u001b[0m\u001b[0mval_ind\u001b[0m\u001b[1;33m]\u001b[0m\u001b[1;33m\u001b[0m\u001b[1;33m\u001b[0m\u001b[0m\n\u001b[0m\u001b[0;32m     10\u001b[0m \u001b[1;33m\u001b[0m\u001b[0m\n\u001b[0;32m     11\u001b[0m \u001b[1;33m\u001b[0m\u001b[0m\n",
      "\u001b[1;32mC:\\ProgramData\\Anaconda3\\lib\\site-packages\\pandas\\core\\frame.py\u001b[0m in \u001b[0;36m__getitem__\u001b[1;34m(self, key)\u001b[0m\n\u001b[0;32m   2978\u001b[0m             \u001b[1;32mif\u001b[0m \u001b[0mself\u001b[0m\u001b[1;33m.\u001b[0m\u001b[0mcolumns\u001b[0m\u001b[1;33m.\u001b[0m\u001b[0mnlevels\u001b[0m \u001b[1;33m>\u001b[0m \u001b[1;36m1\u001b[0m\u001b[1;33m:\u001b[0m\u001b[1;33m\u001b[0m\u001b[1;33m\u001b[0m\u001b[0m\n\u001b[0;32m   2979\u001b[0m                 \u001b[1;32mreturn\u001b[0m \u001b[0mself\u001b[0m\u001b[1;33m.\u001b[0m\u001b[0m_getitem_multilevel\u001b[0m\u001b[1;33m(\u001b[0m\u001b[0mkey\u001b[0m\u001b[1;33m)\u001b[0m\u001b[1;33m\u001b[0m\u001b[1;33m\u001b[0m\u001b[0m\n\u001b[1;32m-> 2980\u001b[1;33m             \u001b[0mindexer\u001b[0m \u001b[1;33m=\u001b[0m \u001b[0mself\u001b[0m\u001b[1;33m.\u001b[0m\u001b[0mcolumns\u001b[0m\u001b[1;33m.\u001b[0m\u001b[0mget_loc\u001b[0m\u001b[1;33m(\u001b[0m\u001b[0mkey\u001b[0m\u001b[1;33m)\u001b[0m\u001b[1;33m\u001b[0m\u001b[1;33m\u001b[0m\u001b[0m\n\u001b[0m\u001b[0;32m   2981\u001b[0m             \u001b[1;32mif\u001b[0m \u001b[0mis_integer\u001b[0m\u001b[1;33m(\u001b[0m\u001b[0mindexer\u001b[0m\u001b[1;33m)\u001b[0m\u001b[1;33m:\u001b[0m\u001b[1;33m\u001b[0m\u001b[1;33m\u001b[0m\u001b[0m\n\u001b[0;32m   2982\u001b[0m                 \u001b[0mindexer\u001b[0m \u001b[1;33m=\u001b[0m \u001b[1;33m[\u001b[0m\u001b[0mindexer\u001b[0m\u001b[1;33m]\u001b[0m\u001b[1;33m\u001b[0m\u001b[1;33m\u001b[0m\u001b[0m\n",
      "\u001b[1;32mC:\\ProgramData\\Anaconda3\\lib\\site-packages\\pandas\\core\\indexes\\base.py\u001b[0m in \u001b[0;36mget_loc\u001b[1;34m(self, key, method, tolerance)\u001b[0m\n\u001b[0;32m   2895\u001b[0m                 )\n\u001b[0;32m   2896\u001b[0m             \u001b[1;32mtry\u001b[0m\u001b[1;33m:\u001b[0m\u001b[1;33m\u001b[0m\u001b[1;33m\u001b[0m\u001b[0m\n\u001b[1;32m-> 2897\u001b[1;33m                 \u001b[1;32mreturn\u001b[0m \u001b[0mself\u001b[0m\u001b[1;33m.\u001b[0m\u001b[0m_engine\u001b[0m\u001b[1;33m.\u001b[0m\u001b[0mget_loc\u001b[0m\u001b[1;33m(\u001b[0m\u001b[0mkey\u001b[0m\u001b[1;33m)\u001b[0m\u001b[1;33m\u001b[0m\u001b[1;33m\u001b[0m\u001b[0m\n\u001b[0m\u001b[0;32m   2898\u001b[0m             \u001b[1;32mexcept\u001b[0m \u001b[0mKeyError\u001b[0m\u001b[1;33m:\u001b[0m\u001b[1;33m\u001b[0m\u001b[1;33m\u001b[0m\u001b[0m\n\u001b[0;32m   2899\u001b[0m                 \u001b[1;32mreturn\u001b[0m \u001b[0mself\u001b[0m\u001b[1;33m.\u001b[0m\u001b[0m_engine\u001b[0m\u001b[1;33m.\u001b[0m\u001b[0mget_loc\u001b[0m\u001b[1;33m(\u001b[0m\u001b[0mself\u001b[0m\u001b[1;33m.\u001b[0m\u001b[0m_maybe_cast_indexer\u001b[0m\u001b[1;33m(\u001b[0m\u001b[0mkey\u001b[0m\u001b[1;33m)\u001b[0m\u001b[1;33m)\u001b[0m\u001b[1;33m\u001b[0m\u001b[1;33m\u001b[0m\u001b[0m\n",
      "\u001b[1;32mpandas\\_libs\\index.pyx\u001b[0m in \u001b[0;36mpandas._libs.index.IndexEngine.get_loc\u001b[1;34m()\u001b[0m\n",
      "\u001b[1;32mpandas\\_libs\\index.pyx\u001b[0m in \u001b[0;36mpandas._libs.index.IndexEngine.get_loc\u001b[1;34m()\u001b[0m\n",
      "\u001b[1;31mTypeError\u001b[0m: '(slice(None, None, None), 1)' is an invalid key"
     ]
    }
   ],
   "source": [
    "NUM_FOLDS = 2\n",
    "kf = KFold(n_splits=NUM_FOLDS, shuffle=True, random_state=0)\n",
    "\n",
    "y_oof = np.zeros(train.shape[0])\n",
    "y_test = np.zeros((val.shape[0], NUM_FOLDS))\n",
    "\n",
    "for f, (train_ind, val_ind) in enumerate(kf.split(train, train)):\n",
    "    train_segment, val_segment = train[train_ind], train[val_ind]\n",
    "    train_segment_label, val_segment_label= train_labels[train_ind], train_labels[val_ind]\n",
    "    \n",
    "\n",
    "    reg = LinearRegression()\n",
    "    reg.fit(train_segment, train_segment_label)\n",
    "\n",
    "    val_pred = reg.predict(val_segment)\n",
    "    test_pred = reg.predict(val_labels) # val labels is actually test labels. Named the variable wrong, needs rework\n",
    "\n",
    "    y_oof[val_ind] = val_pred\n",
    "    y_test[:, f] = test_pred\n",
    "    \n",
    "df[\"pred_{}\".format(target)] = y_oof\n",
    "test_df[target] = y_test.mean(axis=1)\n",
    "\n",
    "mae = mean_absolute_error(df[df[target].notnull()][target].values, df[df[target].notnull()][\"pred_{}\".format(target)].values)\n",
    "\n",
    "\n",
    "print('mean absolute error:', np.round(mae, 4))\n"
   ]
  },
  {
   "cell_type": "code",
   "execution_count": null,
   "metadata": {},
   "outputs": [],
   "source": []
  }
 ],
 "metadata": {
  "kernelspec": {
   "display_name": "Python 3",
   "language": "python",
   "name": "python3"
  },
  "language_info": {
   "codemirror_mode": {
    "name": "ipython",
    "version": 3
   },
   "file_extension": ".py",
   "mimetype": "text/x-python",
   "name": "python",
   "nbconvert_exporter": "python",
   "pygments_lexer": "ipython3",
   "version": "3.7.3"
  }
 },
 "nbformat": 4,
 "nbformat_minor": 2
}
